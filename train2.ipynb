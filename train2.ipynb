{
 "cells": [
  {
   "cell_type": "code",
   "execution_count": 1,
   "id": "acb9384a",
   "metadata": {},
   "outputs": [],
   "source": [
    "import pandas as pd\n",
    "import numpy as np\n",
    "import pickle\n",
    "from sklearn.model_selection import KFold, StratifiedKFold, RandomizedSearchCV\n",
    "from sklearn.metrics import accuracy_score\n",
    "from sklearn.ensemble import RandomForestClassifier, GradientBoostingClassifier\n",
    "from sklearn.decomposition import PCA\n",
    "from sklearn.svm import SVC\n",
    "# ignore warnings\n",
    "import warnings\n",
    "warnings.simplefilter('ignore')"
   ]
  },
  {
   "cell_type": "code",
   "execution_count": 2,
   "id": "f16330e6",
   "metadata": {},
   "outputs": [],
   "source": [
    "random_state = 72\n",
    "!rm -rf predictions2\n",
    "!mkdir predictions2\n",
    "!rm -rf oofs2\n",
    "!mkdir oofs2"
   ]
  },
  {
   "cell_type": "code",
   "execution_count": 3,
   "id": "e04b0af6",
   "metadata": {},
   "outputs": [],
   "source": [
    "train_df = pd.read_csv('data/cleaned_train.csv',index_col=0)\n",
    "test_df = pd.read_csv('data/cleaned_test.csv',index_col=0)"
   ]
  },
  {
   "cell_type": "code",
   "execution_count": 4,
   "id": "bb075b6e",
   "metadata": {},
   "outputs": [],
   "source": [
    "features = train_df.columns.tolist()\n",
    "features.remove('class4')\n",
    "features.remove('class2')"
   ]
  },
  {
   "cell_type": "code",
   "execution_count": 5,
   "id": "70f1534c",
   "metadata": {},
   "outputs": [
    {
     "data": {
      "text/html": [
       "<div>\n",
       "<style scoped>\n",
       "    .dataframe tbody tr th:only-of-type {\n",
       "        vertical-align: middle;\n",
       "    }\n",
       "\n",
       "    .dataframe tbody tr th {\n",
       "        vertical-align: top;\n",
       "    }\n",
       "\n",
       "    .dataframe thead th {\n",
       "        text-align: right;\n",
       "    }\n",
       "</style>\n",
       "<table border=\"1\" class=\"dataframe\">\n",
       "  <thead>\n",
       "    <tr style=\"text-align: right;\">\n",
       "      <th></th>\n",
       "      <th>0</th>\n",
       "      <th>1</th>\n",
       "      <th>2</th>\n",
       "      <th>3</th>\n",
       "      <th>4</th>\n",
       "      <th>5</th>\n",
       "      <th>6</th>\n",
       "      <th>7</th>\n",
       "      <th>8</th>\n",
       "      <th>9</th>\n",
       "      <th>...</th>\n",
       "      <th>68</th>\n",
       "      <th>69</th>\n",
       "      <th>70</th>\n",
       "      <th>71</th>\n",
       "      <th>72</th>\n",
       "      <th>73</th>\n",
       "      <th>74</th>\n",
       "      <th>75</th>\n",
       "      <th>class2</th>\n",
       "      <th>class4</th>\n",
       "    </tr>\n",
       "  </thead>\n",
       "  <tbody>\n",
       "    <tr>\n",
       "      <th>4</th>\n",
       "      <td>-0.780036</td>\n",
       "      <td>-0.670990</td>\n",
       "      <td>-0.669236</td>\n",
       "      <td>0.527349</td>\n",
       "      <td>0.005534</td>\n",
       "      <td>-1.001033</td>\n",
       "      <td>-0.532220</td>\n",
       "      <td>0.292039</td>\n",
       "      <td>-0.292112</td>\n",
       "      <td>-0.471555</td>\n",
       "      <td>...</td>\n",
       "      <td>-0.119527</td>\n",
       "      <td>-0.304354</td>\n",
       "      <td>0.505167</td>\n",
       "      <td>-0.416789</td>\n",
       "      <td>-0.843780</td>\n",
       "      <td>-0.626883</td>\n",
       "      <td>-0.814273</td>\n",
       "      <td>-1.054749</td>\n",
       "      <td>event</td>\n",
       "      <td>Ib</td>\n",
       "    </tr>\n",
       "    <tr>\n",
       "      <th>5</th>\n",
       "      <td>-0.599112</td>\n",
       "      <td>-0.595942</td>\n",
       "      <td>-0.634610</td>\n",
       "      <td>1.022967</td>\n",
       "      <td>0.470993</td>\n",
       "      <td>-1.245619</td>\n",
       "      <td>-0.602700</td>\n",
       "      <td>0.553940</td>\n",
       "      <td>0.035291</td>\n",
       "      <td>0.082399</td>\n",
       "      <td>...</td>\n",
       "      <td>-2.465953</td>\n",
       "      <td>2.575293</td>\n",
       "      <td>0.513758</td>\n",
       "      <td>-0.411206</td>\n",
       "      <td>-0.874503</td>\n",
       "      <td>-0.427167</td>\n",
       "      <td>-0.739697</td>\n",
       "      <td>-0.313856</td>\n",
       "      <td>event</td>\n",
       "      <td>II</td>\n",
       "    </tr>\n",
       "    <tr>\n",
       "      <th>6</th>\n",
       "      <td>-0.704235</td>\n",
       "      <td>-0.663633</td>\n",
       "      <td>-0.660192</td>\n",
       "      <td>1.430529</td>\n",
       "      <td>0.885990</td>\n",
       "      <td>-0.927109</td>\n",
       "      <td>-0.758143</td>\n",
       "      <td>0.977237</td>\n",
       "      <td>-0.251718</td>\n",
       "      <td>-0.367970</td>\n",
       "      <td>...</td>\n",
       "      <td>0.633667</td>\n",
       "      <td>0.073980</td>\n",
       "      <td>0.543975</td>\n",
       "      <td>-0.434971</td>\n",
       "      <td>-0.244280</td>\n",
       "      <td>-0.365230</td>\n",
       "      <td>-0.503018</td>\n",
       "      <td>-0.685542</td>\n",
       "      <td>event</td>\n",
       "      <td>II</td>\n",
       "    </tr>\n",
       "    <tr>\n",
       "      <th>7</th>\n",
       "      <td>-0.521596</td>\n",
       "      <td>-0.666978</td>\n",
       "      <td>-0.635634</td>\n",
       "      <td>1.423584</td>\n",
       "      <td>0.818817</td>\n",
       "      <td>-0.733433</td>\n",
       "      <td>-0.225165</td>\n",
       "      <td>1.213665</td>\n",
       "      <td>-0.168807</td>\n",
       "      <td>-0.189078</td>\n",
       "      <td>...</td>\n",
       "      <td>0.346103</td>\n",
       "      <td>0.742595</td>\n",
       "      <td>0.536949</td>\n",
       "      <td>-0.403696</td>\n",
       "      <td>-0.449119</td>\n",
       "      <td>0.068332</td>\n",
       "      <td>-0.011604</td>\n",
       "      <td>-0.607945</td>\n",
       "      <td>event</td>\n",
       "      <td>Ib</td>\n",
       "    </tr>\n",
       "    <tr>\n",
       "      <th>9</th>\n",
       "      <td>-0.768058</td>\n",
       "      <td>-0.726051</td>\n",
       "      <td>-0.727538</td>\n",
       "      <td>1.074819</td>\n",
       "      <td>1.629404</td>\n",
       "      <td>-1.048424</td>\n",
       "      <td>-0.368766</td>\n",
       "      <td>0.474140</td>\n",
       "      <td>-0.360203</td>\n",
       "      <td>-0.411925</td>\n",
       "      <td>...</td>\n",
       "      <td>-0.532140</td>\n",
       "      <td>-0.456377</td>\n",
       "      <td>0.497521</td>\n",
       "      <td>-0.449575</td>\n",
       "      <td>-0.342285</td>\n",
       "      <td>-0.351700</td>\n",
       "      <td>-0.988119</td>\n",
       "      <td>-0.844090</td>\n",
       "      <td>event</td>\n",
       "      <td>Ia</td>\n",
       "    </tr>\n",
       "  </tbody>\n",
       "</table>\n",
       "<p>5 rows × 78 columns</p>\n",
       "</div>"
      ],
      "text/plain": [
       "          0         1         2         3         4         5         6  \\\n",
       "4 -0.780036 -0.670990 -0.669236  0.527349  0.005534 -1.001033 -0.532220   \n",
       "5 -0.599112 -0.595942 -0.634610  1.022967  0.470993 -1.245619 -0.602700   \n",
       "6 -0.704235 -0.663633 -0.660192  1.430529  0.885990 -0.927109 -0.758143   \n",
       "7 -0.521596 -0.666978 -0.635634  1.423584  0.818817 -0.733433 -0.225165   \n",
       "9 -0.768058 -0.726051 -0.727538  1.074819  1.629404 -1.048424 -0.368766   \n",
       "\n",
       "          7         8         9  ...        68        69        70        71  \\\n",
       "4  0.292039 -0.292112 -0.471555  ... -0.119527 -0.304354  0.505167 -0.416789   \n",
       "5  0.553940  0.035291  0.082399  ... -2.465953  2.575293  0.513758 -0.411206   \n",
       "6  0.977237 -0.251718 -0.367970  ...  0.633667  0.073980  0.543975 -0.434971   \n",
       "7  1.213665 -0.168807 -0.189078  ...  0.346103  0.742595  0.536949 -0.403696   \n",
       "9  0.474140 -0.360203 -0.411925  ... -0.532140 -0.456377  0.497521 -0.449575   \n",
       "\n",
       "         72        73        74        75  class2  class4  \n",
       "4 -0.843780 -0.626883 -0.814273 -1.054749   event      Ib  \n",
       "5 -0.874503 -0.427167 -0.739697 -0.313856   event      II  \n",
       "6 -0.244280 -0.365230 -0.503018 -0.685542   event      II  \n",
       "7 -0.449119  0.068332 -0.011604 -0.607945   event      Ib  \n",
       "9 -0.342285 -0.351700 -0.988119 -0.844090   event      Ia  \n",
       "\n",
       "[5 rows x 78 columns]"
      ]
     },
     "execution_count": 5,
     "metadata": {},
     "output_type": "execute_result"
    }
   ],
   "source": [
    "event_train = train_df[train_df['class2'] == 'event']\n",
    "event_train.head()"
   ]
  },
  {
   "cell_type": "code",
   "execution_count": 6,
   "id": "ad3df104",
   "metadata": {},
   "outputs": [
    {
     "data": {
      "text/plain": [
       "(452, 965)"
      ]
     },
     "execution_count": 6,
     "metadata": {},
     "output_type": "execute_result"
    }
   ],
   "source": [
    "with open('data/stage2_indexes.pkl','rb') as f:\n",
    "    stage2_indexes = pickle.load(f)\n",
    "\n",
    "event_test = test_df.iloc[stage2_indexes]\n",
    "len(event_test),len(test_df)"
   ]
  },
  {
   "cell_type": "code",
   "execution_count": 7,
   "id": "3e1cae79",
   "metadata": {},
   "outputs": [],
   "source": [
    "X = event_train[features]\n",
    "y4 = event_train['class4'].map({'II':2,'Ia':0,'Ib':1})\n",
    "X_test = event_test[features]"
   ]
  },
  {
   "cell_type": "code",
   "execution_count": 8,
   "id": "097c9899",
   "metadata": {},
   "outputs": [],
   "source": [
    "def mapper(x):\n",
    "    if x != 0:\n",
    "        return 1\n",
    "    else:\n",
    "        return 0\n",
    "    \n",
    "def process(x):\n",
    "    results = []\n",
    "    for element in x:\n",
    "        results.append(mapper(element))\n",
    "    return results\n",
    "\n",
    "\n",
    "def run_cv(get_model, stratified=True, name='dummy', test=False, select=None):\n",
    "    global X, X_test\n",
    "    if select is not None:\n",
    "        combined_X = pd.concat([X,X_test])\n",
    "        pca = PCA(n_components=select)\n",
    "        combined_X = pca.fit_transform(combined_X)\n",
    "        current_X = pd.DataFrame(combined_X[:len(X)])\n",
    "        current_X_test = pd.DataFrame(combined_X[len(X):])\n",
    "    else:\n",
    "        current_X = X.copy()\n",
    "        current_X_test = X_test.copy()\n",
    "        \n",
    "    if stratified:\n",
    "        kf = StratifiedKFold(n_splits=5,shuffle=True,random_state=random_state)\n",
    "        kf.get_n_splits(current_X,y4)\n",
    "    else:\n",
    "        kf = KFold(n_splits=5,shuffle=True,random_state=random_state)\n",
    "    oof4 = np.zeros(len(y4))\n",
    "    oof_probas = [0 for _ in range(len(y4))]\n",
    "    for index,(train_index, test_index) in enumerate(kf.split(current_X,y4)):\n",
    "        X_train, X_val = current_X.iloc[train_index], current_X.iloc[test_index]\n",
    "        y_train, y_val = y4.iloc[train_index], y4.iloc[test_index]\n",
    "        model = get_model()\n",
    "        model.fit(X_train, y_train)\n",
    "        temp = model.predict(X_val)\n",
    "        oof4[test_index] = temp\n",
    "        \n",
    "        if not test:\n",
    "            # predictions\n",
    "            preds = model.predict_proba(current_X_test)\n",
    "            with open(f'predictions2/{name}_{index}.pkl','wb') as f:\n",
    "                pickle.dump(preds,f)\n",
    "            # cross validation\n",
    "            oof_proba = model.predict_proba(X_val)\n",
    "            for idx,index in enumerate(test_index):\n",
    "                oof_probas[index] = oof_proba[idx]\n",
    "        \n",
    "    error4 = accuracy_score(y4, oof4)\n",
    "    with open(f'oofs2/{name}.pkl','wb') as f:\n",
    "        pickle.dump(oof_probas,f)\n",
    "    return error4"
   ]
  },
  {
   "cell_type": "code",
   "execution_count": 9,
   "id": "58bc1618",
   "metadata": {},
   "outputs": [],
   "source": [
    "# hyper-parameters tuning for rf\n",
    "# max_depths = [10 * i for i in range(1,11)]\n",
    "# max_depths.append(None)\n",
    "\n",
    "# rf = RandomForestClassifier()\n",
    "# rf_params = {'n_estimators':[50 * i for i in range(1,21)],\n",
    "#             'max_depth':max_depths}\n",
    "# rf_random = RandomizedSearchCV(estimator=rf,param_distributions=rf_params,random_state=random_state)\n",
    "# rf_random.fit(X, y4)\n",
    "# print(rf_random.best_params_)"
   ]
  },
  {
   "cell_type": "code",
   "execution_count": 10,
   "id": "899faa26",
   "metadata": {},
   "outputs": [
    {
     "data": {
      "text/plain": [
       "0.5458515283842795"
      ]
     },
     "execution_count": 10,
     "metadata": {},
     "output_type": "execute_result"
    }
   ],
   "source": [
    "get_rf_model = lambda: RandomForestClassifier(random_state=random_state,n_estimators=450,max_depth=50)\n",
    "run_cv(get_rf_model,name='rf')"
   ]
  },
  {
   "cell_type": "code",
   "execution_count": 11,
   "id": "f93b30d9",
   "metadata": {},
   "outputs": [],
   "source": [
    "# # hyper-parameters tuning for gb\n",
    "# max_depths = [10 * i for i in range(1,21)]\n",
    "# max_depths.append(None)\n",
    "\n",
    "# gb = GradientBoostingClassifier()\n",
    "# gb_params = {'n_estimators':[50 * i for i in range(1,21)],\n",
    "#             'max_depth':max_depths}\n",
    "# gb_random = RandomizedSearchCV(estimator=gb,param_distributions=gb_params,random_state=random_state)\n",
    "# gb_random.fit(X, y4)\n",
    "# print(gb_random.best_params_)"
   ]
  },
  {
   "cell_type": "code",
   "execution_count": 12,
   "id": "51fc171e",
   "metadata": {},
   "outputs": [
    {
     "data": {
      "text/plain": [
       "0.5414847161572053"
      ]
     },
     "execution_count": 12,
     "metadata": {},
     "output_type": "execute_result"
    }
   ],
   "source": [
    "get_gb_model = lambda: GradientBoostingClassifier(random_state=random_state)\n",
    "run_cv(get_gb_model,name='gb')"
   ]
  },
  {
   "cell_type": "code",
   "execution_count": 13,
   "id": "eae83f4f",
   "metadata": {
    "scrolled": true
   },
   "outputs": [],
   "source": [
    "# # hyper-parameters tuning for lr\n",
    "# lr = LogisticRegression()\n",
    "# lr_params = {'max_iter':[100 * i for i in range(15,36)]}\n",
    "# lr_random = RandomizedSearchCV(estimator=lr,param_distributions=lr_params,random_state=random_state)\n",
    "# lr_random.fit(X, y4)\n",
    "# print(lr_random.best_params_)"
   ]
  },
  {
   "cell_type": "code",
   "execution_count": 14,
   "id": "fa564f6b",
   "metadata": {},
   "outputs": [
    {
     "data": {
      "text/plain": [
       "0.537117903930131"
      ]
     },
     "execution_count": 14,
     "metadata": {},
     "output_type": "execute_result"
    }
   ],
   "source": [
    "get_svm_model = lambda: SVC(random_state=random_state,probability=True)\n",
    "run_cv(get_svm_model,name='svm',select=20)"
   ]
  },
  {
   "cell_type": "code",
   "execution_count": null,
   "id": "cdd7c0db",
   "metadata": {},
   "outputs": [],
   "source": []
  }
 ],
 "metadata": {
  "kernelspec": {
   "display_name": "Python 3 (ipykernel)",
   "language": "python",
   "name": "python3"
  },
  "language_info": {
   "codemirror_mode": {
    "name": "ipython",
    "version": 3
   },
   "file_extension": ".py",
   "mimetype": "text/x-python",
   "name": "python",
   "nbconvert_exporter": "python",
   "pygments_lexer": "ipython3",
   "version": "3.9.7"
  }
 },
 "nbformat": 4,
 "nbformat_minor": 5
}
