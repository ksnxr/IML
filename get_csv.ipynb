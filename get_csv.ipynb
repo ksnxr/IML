{
 "cells": [
  {
   "cell_type": "code",
   "execution_count": 1,
   "id": "eaf23dde",
   "metadata": {},
   "outputs": [],
   "source": [
    "import pandas as pd\n",
    "import pickle"
   ]
  },
  {
   "cell_type": "code",
   "execution_count": 2,
   "id": "7c0dc8cd",
   "metadata": {},
   "outputs": [
    {
     "data": {
      "text/html": [
       "<div>\n",
       "<style scoped>\n",
       "    .dataframe tbody tr th:only-of-type {\n",
       "        vertical-align: middle;\n",
       "    }\n",
       "\n",
       "    .dataframe tbody tr th {\n",
       "        vertical-align: top;\n",
       "    }\n",
       "\n",
       "    .dataframe thead th {\n",
       "        text-align: right;\n",
       "    }\n",
       "</style>\n",
       "<table border=\"1\" class=\"dataframe\">\n",
       "  <thead>\n",
       "    <tr style=\"text-align: right;\">\n",
       "      <th></th>\n",
       "      <th>0.5</th>\n",
       "    </tr>\n",
       "  </thead>\n",
       "  <tbody>\n",
       "    <tr>\n",
       "      <th>class4</th>\n",
       "      <td>p</td>\n",
       "    </tr>\n",
       "    <tr>\n",
       "      <th>nonevent</th>\n",
       "      <td>0.5</td>\n",
       "    </tr>\n",
       "    <tr>\n",
       "      <th>nonevent</th>\n",
       "      <td>0.5</td>\n",
       "    </tr>\n",
       "    <tr>\n",
       "      <th>nonevent</th>\n",
       "      <td>0.5</td>\n",
       "    </tr>\n",
       "    <tr>\n",
       "      <th>nonevent</th>\n",
       "      <td>0.5</td>\n",
       "    </tr>\n",
       "  </tbody>\n",
       "</table>\n",
       "</div>"
      ],
      "text/plain": [
       "          0.5\n",
       "class4      p\n",
       "nonevent  0.5\n",
       "nonevent  0.5\n",
       "nonevent  0.5\n",
       "nonevent  0.5"
      ]
     },
     "execution_count": 2,
     "metadata": {},
     "output_type": "execute_result"
    }
   ],
   "source": [
    "submission = pd.read_csv('data/dummy.csv')\n",
    "submission.head()"
   ]
  },
  {
   "cell_type": "code",
   "execution_count": 3,
   "id": "ed06b647",
   "metadata": {},
   "outputs": [],
   "source": [
    "with open('results/acc2.pkl','rb') as f:\n",
    "    acc2 = pickle.load(f)\n",
    "\n",
    "with open('results/final_confidences.pkl','rb') as f:\n",
    "    final_confidences = pickle.load(f)\n",
    "\n",
    "with open('results/final_predictions.pkl','rb') as f:\n",
    "    final_predictions = pickle.load(f)"
   ]
  },
  {
   "cell_type": "code",
   "execution_count": 4,
   "id": "3e762c3c",
   "metadata": {},
   "outputs": [],
   "source": [
    "new_indexes = ['class4']\n",
    "for prediction in final_predictions:\n",
    "    if prediction == 0:\n",
    "        new_indexes.append('nonevent')\n",
    "    elif prediction == 1:\n",
    "        new_indexes.append('Ia')\n",
    "    elif prediction == 2:\n",
    "        new_indexes.append('Ib')\n",
    "    elif prediction == 3:\n",
    "        new_indexes.append('II')\n",
    "    else:\n",
    "        raise Exception\n",
    "        \n",
    "submission = submission.set_index(pd.Index(new_indexes))"
   ]
  },
  {
   "cell_type": "code",
   "execution_count": 5,
   "id": "794c1a86",
   "metadata": {},
   "outputs": [
    {
     "data": {
      "text/html": [
       "<div>\n",
       "<style scoped>\n",
       "    .dataframe tbody tr th:only-of-type {\n",
       "        vertical-align: middle;\n",
       "    }\n",
       "\n",
       "    .dataframe tbody tr th {\n",
       "        vertical-align: top;\n",
       "    }\n",
       "\n",
       "    .dataframe thead th {\n",
       "        text-align: right;\n",
       "    }\n",
       "</style>\n",
       "<table border=\"1\" class=\"dataframe\">\n",
       "  <thead>\n",
       "    <tr style=\"text-align: right;\">\n",
       "      <th></th>\n",
       "      <th>0.901747</th>\n",
       "    </tr>\n",
       "  </thead>\n",
       "  <tbody>\n",
       "    <tr>\n",
       "      <th>class4</th>\n",
       "      <td>p</td>\n",
       "    </tr>\n",
       "    <tr>\n",
       "      <th>Ia</th>\n",
       "      <td>0.796358</td>\n",
       "    </tr>\n",
       "    <tr>\n",
       "      <th>nonevent</th>\n",
       "      <td>0.201053</td>\n",
       "    </tr>\n",
       "    <tr>\n",
       "      <th>II</th>\n",
       "      <td>0.987733</td>\n",
       "    </tr>\n",
       "    <tr>\n",
       "      <th>Ib</th>\n",
       "      <td>0.976383</td>\n",
       "    </tr>\n",
       "  </tbody>\n",
       "</table>\n",
       "</div>"
      ],
      "text/plain": [
       "          0.901747\n",
       "class4           p\n",
       "Ia        0.796358\n",
       "nonevent  0.201053\n",
       "II        0.987733\n",
       "Ib        0.976383"
      ]
     },
     "execution_count": 5,
     "metadata": {},
     "output_type": "execute_result"
    }
   ],
   "source": [
    "submission = submission.rename(columns={'0.5':acc2})\n",
    "for i in range(len(final_predictions)):\n",
    "    submission[acc2][i+1] = final_confidences[i]\n",
    "submission.head()"
   ]
  },
  {
   "cell_type": "code",
   "execution_count": 6,
   "id": "4ddb8ab5",
   "metadata": {},
   "outputs": [],
   "source": [
    "submission.to_csv('s.csv')"
   ]
  },
  {
   "cell_type": "code",
   "execution_count": 7,
   "id": "56d95d57",
   "metadata": {},
   "outputs": [],
   "source": [
    "# Remove the first , in the generated s.csv. There might be better way to do this.\n",
    "with open('s.csv') as f:\n",
    "    with open('answers.csv','w') as f1:\n",
    "        for index,line in enumerate(f.readlines()):\n",
    "            if index == 0:\n",
    "                f1.write(line[1:])\n",
    "            else:\n",
    "                f1.write(line)\n",
    "\n",
    "!rm s.csv"
   ]
  },
  {
   "cell_type": "code",
   "execution_count": 8,
   "id": "26baf6d0",
   "metadata": {},
   "outputs": [
    {
     "name": "stdout",
     "output_type": "stream",
     "text": [
      "During startup - Warning messages:\n",
      "1: Setting LC_COLLATE failed, using \"C\" \n",
      "2: Setting LC_TIME failed, using \"C\" \n",
      "3: Setting LC_MESSAGES failed, using \"C\" \n",
      "4: Setting LC_MONETARY failed, using \"C\" \n",
      "Everything seems to be ok.\n"
     ]
    }
   ],
   "source": [
    "# Check the submission.csv\n",
    "!Rscript --vanilla data/lint.r"
   ]
  },
  {
   "cell_type": "code",
   "execution_count": 9,
   "id": "edc346fe",
   "metadata": {},
   "outputs": [
    {
     "data": {
      "text/plain": [
       "nonevent    513\n",
       "II          297\n",
       "Ib          143\n",
       "Ia           12\n",
       "class4        1\n",
       "Name: index, dtype: int64"
      ]
     },
     "execution_count": 9,
     "metadata": {},
     "output_type": "execute_result"
    }
   ],
   "source": [
    "test = submission.copy()\n",
    "test.reset_index()['index'].value_counts()"
   ]
  },
  {
   "cell_type": "code",
   "execution_count": null,
   "id": "c291eea5",
   "metadata": {},
   "outputs": [],
   "source": []
  }
 ],
 "metadata": {
  "kernelspec": {
   "display_name": "Python 3 (ipykernel)",
   "language": "python",
   "name": "python3"
  },
  "language_info": {
   "codemirror_mode": {
    "name": "ipython",
    "version": 3
   },
   "file_extension": ".py",
   "mimetype": "text/x-python",
   "name": "python",
   "nbconvert_exporter": "python",
   "pygments_lexer": "ipython3",
   "version": "3.9.7"
  }
 },
 "nbformat": 4,
 "nbformat_minor": 5
}
